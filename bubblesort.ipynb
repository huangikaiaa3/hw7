{
 "cells": [
  {
   "cell_type": "code",
   "execution_count": 3,
   "metadata": {},
   "outputs": [
    {
     "name": "stdout",
     "output_type": "stream",
     "text": [
      "pass 1 :  [9, 20, 0, 55, 3, 11, 100]\n",
      "pass 2 :  [9, 0, 20, 3, 11, 55, 100]\n",
      "pass 3 :  [0, 9, 3, 11, 20, 55, 100]\n",
      "pass 4 :  [0, 3, 9, 11, 20, 55, 100]\n",
      "pass 5 :  [0, 3, 9, 11, 20, 55, 100]\n",
      "pass 6 :  [0, 3, 9, 11, 20, 55, 100]\n"
     ]
    }
   ],
   "source": [
    "def bubble_sort(list):\n",
    "    for i in range(0,len(list)-1): #有n-1回合(n為數字個數)\n",
    "        for j in range(0,len(list)-1-i): #每回合進行比較的範圍\n",
    "            if list[j] > list[j+1]: #是否需交換\n",
    "                tmp = list[j]\n",
    "                list[j] = list[j+1]\n",
    "                list[j+1] = tmp\n",
    "        print(\"pass\",i+1,\": \", list)\n",
    "\n",
    "bubble_sort([20, 9, 100, 0, 55, 3 ,11])"
   ]
  }
 ],
 "metadata": {
  "kernelspec": {
   "display_name": "Python 3",
   "language": "python",
   "name": "python3"
  },
  "language_info": {
   "codemirror_mode": {
    "name": "ipython",
    "version": 3
   },
   "file_extension": ".py",
   "mimetype": "text/x-python",
   "name": "python",
   "nbconvert_exporter": "python",
   "pygments_lexer": "ipython3",
   "version": "3.6.4"
  }
 },
 "nbformat": 4,
 "nbformat_minor": 2
}
